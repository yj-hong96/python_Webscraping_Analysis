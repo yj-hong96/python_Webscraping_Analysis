{
 "cells": [
  {
   "cell_type": "markdown",
   "id": "eb0bfa44",
   "metadata": {},
   "source": [
    "## 1. 뉴스제목 가져오기\n",
    "* user-agent 요청헤더를 반드시 설정해야 한다."
   ]
  },
  {
   "cell_type": "code",
   "execution_count": 2,
   "id": "f0d27781",
   "metadata": {},
   "outputs": [
    {
     "name": "stdout",
     "output_type": "stream",
     "text": [
      "Name: requests\n",
      "Version: 2.32.3\n",
      "Summary: Python HTTP for Humans.\n",
      "Home-page: https://requests.readthedocs.io\n",
      "Author: Kenneth Reitz\n",
      "Author-email: me@kennethreitz.org\n",
      "License: Apache-2.0\n",
      "Location: c:\\Users\\user\\anaconda3\\Lib\\site-packages\n",
      "Requires: certifi, charset-normalizer, idna, urllib3\n",
      "Required-by: anaconda-catalogs, anaconda-client, anaconda-cloud-auth, anaconda-project, conda, conda-build, conda-repo-cli, conda_package_streaming, cookiecutter, datashader, jupyterlab_server, panel, requests-file, requests-toolbelt, Sphinx, streamlit, tldextract\n",
      "Note: you may need to restart the kernel to use updated packages.\n"
     ]
    }
   ],
   "source": [
    "# requests 라이브러리 설치여부 확인\n",
    "%pip show requests"
   ]
  },
  {
   "cell_type": "code",
   "execution_count": 3,
   "id": "f7798ea8",
   "metadata": {},
   "outputs": [
    {
     "name": "stdout",
     "output_type": "stream",
     "text": [
      "Name: beautifulsoup4\n",
      "Version: 4.12.3\n",
      "Summary: Screen-scraping library\n",
      "Home-page: https://www.crummy.com/software/BeautifulSoup/bs4/\n",
      "Author: \n",
      "Author-email: Leonard Richardson <leonardr@segfault.org>\n",
      "License: MIT License\n",
      "Location: c:\\Users\\user\\anaconda3\\Lib\\site-packages\n",
      "Requires: soupsieve\n",
      "Required-by: conda-build, nbconvert\n",
      "Note: you may need to restart the kernel to use updated packages.\n"
     ]
    }
   ],
   "source": [
    "# beautifulsoup4 라이브러리 설치여부 확인\n",
    "%pip show beautifulsoup4"
   ]
  },
  {
   "cell_type": "code",
   "execution_count": 5,
   "id": "bf80a429",
   "metadata": {},
   "outputs": [],
   "source": [
    "# reqeusts, bs4 import\n",
    "import requests\n",
    "import bs4\n",
    "# BeautifulSoup 클래스 import\n",
    "from bs4 import BeautifulSoup"
   ]
  },
  {
   "cell_type": "code",
   "execution_count": 6,
   "id": "9788d6ac",
   "metadata": {},
   "outputs": [
    {
     "name": "stdout",
     "output_type": "stream",
     "text": [
      "requests 버전 2.32.3\n",
      "beautifulsoup4 버전 4.12.3\n"
     ]
    }
   ],
   "source": [
    "# requests, bs4 버전 확인하기\n",
    "print(f'requests 버전 {requests.__version__}')\n",
    "print(f'beautifulsoup4 버전 {bs4.__version__}')"
   ]
  },
  {
   "cell_type": "markdown",
   "id": "ccb91def-cde3-4aeb-b0e5-2e7233500333",
   "metadata": {},
   "source": [
    "### 1. 뉴스 제목 추출하기"
   ]
  },
  {
   "cell_type": "code",
   "execution_count": null,
   "id": "94c12fd6",
   "metadata": {},
   "outputs": [
    {
     "name": "stdout",
     "output_type": "stream",
     "text": [
      "https://news.naver.com/section/105\n",
      "<Response [200]>\n",
      "<class 'requests.models.Response'>\n",
      "200 True\n",
      "86\n",
      "<class 'bs4.element.ResultSet'>\n",
      "https://n.news.naver.com/mnews/article/016/0002454277 IBK企銀-SKT ‘보이스피싱 탐지서비스’ 오픈\n",
      "https://n.news.naver.com/mnews/article/comment/016/0002454277 \n",
      "https://n.news.naver.com/mnews/article/584/0000031781 항생제 내성 슈퍼박테리아, 나노입자 결합시켜 열로 제거한다\n",
      "https://n.news.naver.com/mnews/article/comment/584/0000031781 \n",
      "https://n.news.naver.com/mnews/article/421/0008180537 뤼튼 \"무료전략으로 생활형 AI 시대 열 것…올해 천만 MAU 목표\"\n",
      "https://n.news.naver.com/mnews/article/comment/421/0008180537 \n",
      "https://n.news.naver.com/mnews/article/032/0003361960 악성 스팸문자, 발송단계에서 ‘X-ray’로 차단한다\n",
      "https://n.news.naver.com/mnews/article/comment/032/0003361960 \n",
      "https://n.news.naver.com/mnews/article/092/0002369810 신세계I&C 수장된 양윤지, 국내외 리테일 테크 AX 시장 노리고 新무기 공개\n",
      "https://n.news.naver.com/mnews/article/comment/092/0002369810 \n",
      "https://n.news.naver.com/mnews/article/277/0005574299 카카오가 추구하는 '착한 소비'…9년만에 누적 거래 1조원\n",
      "https://n.news.naver.com/mnews/article/comment/277/0005574299 \n",
      "https://n.news.naver.com/mnews/article/029/0002946563 중앙아시아·유럽으로 넓어지는 韓 우주협력 영토\n",
      "https://n.news.naver.com/mnews/article/comment/029/0002946563 \n",
      "https://n.news.naver.com/mnews/article/092/0002369827 리플 \"전 세계 금융 시장, 실물자산 토큰화 중심으로 근본 변화\"\n",
      "https://n.news.naver.com/mnews/article/comment/092/0002369827 \n",
      "https://n.news.naver.com/mnews/article/421/0008180569 에이비엘바이오, '4조 기술이전' 후 첫 공식석상…로드맵 밝힌다\n",
      "https://n.news.naver.com/mnews/article/comment/421/0008180569 \n",
      "https://n.news.naver.com/mnews/article/421/0008180565 \"의료계 제안 논의하자\"…의협, 정부·국회에 '대화의 장' 요구\n",
      "https://n.news.naver.com/mnews/article/comment/421/0008180565 \n",
      "https://n.news.naver.com/mnews/article/081/0003531724 항암제 피하는 암세포 꼼수 발견…악성 폐암도 잡는다\n",
      "https://n.news.naver.com/mnews/article/comment/081/0003531724 \n",
      "https://n.news.naver.com/mnews/article/421/0008180537 뤼튼 \"무료전략으로 생활형 AI 시대 열 것…올해 천만 MAU 목표\"\n",
      "https://n.news.naver.com/mnews/article/comment/421/0008180537 \n",
      "https://n.news.naver.com/mnews/article/032/0003361993 첫 한국계 ‘NASA 우주비행사’ 조니 김, 마침내 지구 궤도로 떠났다\n",
      "https://n.news.naver.com/mnews/article/comment/032/0003361993 \n",
      "https://n.news.naver.com/mnews/article/015/0005116525 질병청, 세계 첫 단백질 재조합 탄저백신 '배리트락스' 상용화\n",
      "https://n.news.naver.com/mnews/article/comment/015/0005116525 \n",
      "https://n.news.naver.com/mnews/article/092/0002369818 트럼프 관세, 세계경제 큰 타격…美中 충돌로 더 증폭\n",
      "https://n.news.naver.com/mnews/article/comment/092/0002369818 \n",
      "https://n.news.naver.com/mnews/article/366/0001067643 [100세 과학] 노년 건강 유지엔 채식보다 육식\n",
      "https://n.news.naver.com/mnews/article/comment/366/0001067643 \n",
      "https://n.news.naver.com/mnews/article/018/0005982461 [사고]스테이블코인 vs CBDC…디지털금융 대세는 어디로?\n",
      "https://n.news.naver.com/mnews/article/comment/018/0005982461 \n",
      "https://n.news.naver.com/mnews/article/021/0002701758 폐암 면역치료 새 전략 찾았다…면역항암 막는 핵심인자 최초로 발견\n",
      "https://n.news.naver.com/mnews/article/comment/021/0002701758 \n",
      "https://n.news.naver.com/mnews/article/092/0002369817 \"갤럭시S26 울트라, 카메라 사양 등 전작과 큰 변화 없다\"\n",
      "https://n.news.naver.com/mnews/article/comment/092/0002369817 \n",
      "https://n.news.naver.com/mnews/article/092/0002369816 구영배 \"위시 살려야\" 주장에 피해자들 분통…\"차라리 처벌 받아라\"\n",
      "https://n.news.naver.com/mnews/article/comment/092/0002369816 \n",
      "https://n.news.naver.com/mnews/article/092/0002369815 관세 폭탄에 스마트폰 공장 美로 옮긴다?…\"가능성 희박\"\n",
      "https://n.news.naver.com/mnews/article/comment/092/0002369815 \n",
      "https://n.news.naver.com/mnews/article/015/0005116508 전국에 딱 500대만 풀린다…'한정판 갤럭시S25'의 정체\n",
      "https://n.news.naver.com/mnews/article/comment/015/0005116508 \n",
      "https://n.news.naver.com/mnews/article/030/0003301337 [6G 코리아] ④ 이통3사, AI-RAN 시장 개척 주도\n",
      "https://n.news.naver.com/mnews/article/comment/030/0003301337 \n",
      "https://n.news.naver.com/mnews/article/015/0005116502 한바이오 \"모유두세포로 탈모 정복하겠다\"\n",
      "https://n.news.naver.com/mnews/article/comment/015/0005116502 \n",
      "https://n.news.naver.com/mnews/article/293/0000065879 뤼튼, 감정 교류도 하는 'AI 비서' 낸다\n",
      "https://n.news.naver.com/mnews/article/comment/293/0000065879 \n",
      "https://n.news.naver.com/mnews/article/092/0002369813 온라인서 예금토큰 결제 지연…9일부터 순차적으로 진행\n",
      "https://n.news.naver.com/mnews/article/comment/092/0002369813 \n",
      "https://n.news.naver.com/mnews/article/030/0003301326 법인 가상자산 투자 허용, 금융 생태계 지각변동 예고...우덕수 블록데몬 아시아 대표 “기관 대상 상품 본격화”\n",
      "https://n.news.naver.com/mnews/article/comment/030/0003301326 \n",
      "https://n.news.naver.com/mnews/article/366/0001067631 美와 AI 격차 좁힌 中…한국은 AI 투자 줄어\n",
      "https://n.news.naver.com/mnews/article/comment/366/0001067631 \n",
      "https://n.news.naver.com/mnews/article/030/0003301320 LS전선, 대한전선 상대 특허 최종 승소…양측 상고 포기\n",
      "https://n.news.naver.com/mnews/article/comment/030/0003301320 \n",
      "https://n.news.naver.com/mnews/article/023/0003898272 사람 태워 산속 누빈다... 늑대 닮은 日 4족보행 로봇 공개\n",
      "https://n.news.naver.com/mnews/article/comment/023/0003898272 \n",
      "https://n.news.naver.com/mnews/article/030/0003301315 삼성전자 시장예상 뛰어넘은 1분기 실적...매출 79조·영업익 6.6조\n",
      "https://n.news.naver.com/mnews/article/comment/030/0003301315 \n",
      "https://n.news.naver.com/mnews/article/421/0008180285 '2인 체제' 방통위 논란 여전…이대로면 '줄소송' 가능성\n",
      "https://n.news.naver.com/mnews/article/comment/421/0008180285 \n",
      "https://n.news.naver.com/mnews/article/015/0005116490 \"영락없는 자녀 목소린데\"…AI 보이스피싱, AI로 방지\n",
      "https://n.news.naver.com/mnews/article/comment/015/0005116490 \n",
      "https://n.news.naver.com/mnews/article/138/0002194264 DDR5 가격 불 붙인 中 CXMT…삼성⋅SK '반사이익' 장기화 기대 [소부장반차장]\n",
      "https://n.news.naver.com/mnews/article/comment/138/0002194264 \n",
      "https://n.news.naver.com/mnews/article/029/0002946687 100년간 해킹 불가… 팬시코인, 세계 최초 `양자암호내성 블록체인 지갑` 승인\n",
      "https://n.news.naver.com/mnews/article/comment/029/0002946687 \n",
      "https://n.news.naver.com/mnews/article/030/0003301302 중소 알뜰폰 '저가형'에 대기업 알뜰폰, '이색 요금제'\n",
      "https://n.news.naver.com/mnews/article/comment/030/0003301302 \n",
      "https://n.news.naver.com/mnews/article/421/0008180265 질병청, 국내 기술로 최초 단백질 탄저백신 개발…'26년 결실'(종합)\n",
      "https://n.news.naver.com/mnews/article/comment/421/0008180265 \n",
      "https://n.news.naver.com/mnews/article/030/0003301301 [IT구루 간담회] AI 에이전트 등 응용분야 육성 전략, 인재양성 패러다임 전환해야\n",
      "https://n.news.naver.com/mnews/article/comment/030/0003301301 \n",
      "https://n.news.naver.com/mnews/article/277/0005574594 \"가구 배치, 옷 코디도 도와준다\"…제미나이 라이브 갤S25 적용\n",
      "https://n.news.naver.com/mnews/article/comment/277/0005574594 \n",
      "https://n.news.naver.com/mnews/article/030/0003301290 매그나칩, DDI 사업 청산…임직원 해고 통보\n",
      "https://n.news.naver.com/mnews/article/comment/030/0003301290 \n",
      "https://n.news.naver.com/mnews/article/009/0005472676 상금 30억원 내건 슈퍼센트, ‘제4회 슈퍼센트 게임 챌린지’ 개최\n",
      "https://n.news.naver.com/mnews/article/comment/009/0005472676 \n",
      "https://n.news.naver.com/mnews/article/584/0000031781 항생제 내성 슈퍼박테리아, 나노입자 결합시켜 열로 제거한다\n",
      "https://n.news.naver.com/mnews/article/comment/584/0000031781 \n",
      "https://n.news.naver.com/mnews/article/366/0001067619 MS가 주목한 韓 스타트업 뤼튼 “전 국민 맞춤형 AI 시대 만든다”\n",
      "https://n.news.naver.com/mnews/article/comment/366/0001067619 \n"
     ]
    }
   ],
   "source": [
    "# IT/과학 뉴스\n",
    "req_param = {\"sid\": 105}\n",
    "#\n",
    "url = \"https://news.naver.com/section/{sid}\".format(**req_param)\n",
    "print(url)\n",
    "\n",
    "# url2 = 'https://news.naver.com/section/105'\n",
    "\n",
    "# 요청 헤더 설정 : 브라우저 정보 (사람처럼 보이게 하려고 설정하는 것임)\n",
    "req_header = {\n",
    "    \"user-agent\": \"Mozilla/5.0 (Windows NT 10.0; Win64; x64) AppleWebKit/537.36 (KHTML, like Gecko) Chrome/104.0.0.0 Safari/537.36\"\n",
    "}\n",
    "\n",
    "# requests 의 get() 함수 호출하기\n",
    "res = requests.get(url, headers=req_header)\n",
    "print(res)\n",
    "print(type(res))\n",
    "print(res.status_code, res.ok)\n",
    "\n",
    "# 응답(response)이 OK 이면\n",
    "if res.ok:\n",
    "    # 응답 (response)에서 text 추출 - source 보기\n",
    "    html = res.text\n",
    "    # BeautifulSoup 객체 생성\n",
    "    soup = BeautifulSoup(html, \"html.parser\")\n",
    "    # print(soup)\n",
    "    # CSS 선택자\n",
    "    # <div class='sa_text'><a href=''></a></div>\n",
    "    print(len(soup.select(\"div.sa_text a[href*='mnews/article']\")))\n",
    "    a_tag_list = soup.select(\"div.sa_text a[href*='mnews/article']\")\n",
    "    print(\n",
    "        type(a_tag_list)\n",
    "    )  # [<a href=\"http://\">뉴스제목</a>] ResultSet객체 , <a></a> : Tag 객체\n",
    "    for a_tag in a_tag_list:\n",
    "        # print(type(a_tag))\n",
    "        title = a_tag.text.strip()\n",
    "        # href 속성의 값을 가져오기\n",
    "        link = a_tag[\"href\"]\n",
    "        print(link, title)\n",
    "else:\n",
    "    # 응답(response)이 Error 이면 status code 출력\n",
    "    print(f\"에러 코드 = {res.status_code}\")"
   ]
  },
  {
   "cell_type": "markdown",
   "id": "45640860-a449-4285-90d7-5f300292b461",
   "metadata": {},
   "source": [
    "### 1.1 뉴스제목 추출하는 함수 선언하기"
   ]
  },
  {
   "cell_type": "code",
   "execution_count": 37,
   "id": "9f2e4ef8",
   "metadata": {},
   "outputs": [
    {
     "name": "stdout",
     "output_type": "stream",
     "text": [
      "=====> https://news.naver.com/section/101 경제 뉴스 <=====\n",
      "<Response [200]>\n",
      "<class 'requests.models.Response'>\n",
      "200 True\n",
      "92\n",
      "<class 'bs4.element.ResultSet'>\n",
      "https://n.news.naver.com/mnews/article/003/0013169612 최상목 \"다음 주 초 10조원 추경안 발표…골든타임 놓치지 않아야\"\n",
      "https://n.news.naver.com/mnews/article/comment/003/0013169612 \n",
      "https://n.news.naver.com/mnews/article/052/0002176969 \"이미 발표된 25% 관세 이번 방미길에 반드시 협의\"[현장영상+]\n",
      "https://n.news.naver.com/mnews/article/comment/052/0002176969 \n",
      "https://n.news.naver.com/mnews/article/001/0015317397 금감원, 청년층 자산형성 지원 위한 금융교육 활성화 세미나\n",
      "https://n.news.naver.com/mnews/article/comment/001/0015317397 \n",
      "https://n.news.naver.com/mnews/article/055/0001247444 작년 청년층 장기 실업자 6만 9천 명…5년 만에 증가세 전환\n",
      "https://n.news.naver.com/mnews/article/comment/055/0001247444 \n",
      "https://n.news.naver.com/mnews/article/422/0000728902 삼성전자, 1분기 영업익 6.6조원…관세는 잠재 리스크\n",
      "https://n.news.naver.com/mnews/article/comment/422/0000728902 \n",
      "https://n.news.naver.com/mnews/article/032/0003361750 “비오는데 우산 빼앗나”…홈플러스, 서울우유·농축산연합회와 ‘갈등’\n",
      "https://n.news.naver.com/mnews/article/comment/032/0003361750 \n",
      "https://n.news.naver.com/mnews/article/009/0005472703 지난해 딥테크 투자 34% 늘었다\n",
      "https://n.news.naver.com/mnews/article/comment/009/0005472703 \n",
      "https://n.news.naver.com/mnews/article/011/0004471588 정의선 회장, 9월 메리바라 GM 회장과 美매체 기조연설\n",
      "https://n.news.naver.com/mnews/article/comment/011/0004471588 \n",
      "https://n.news.naver.com/mnews/article/016/0002454144 대전시, 차세대 로봇 딥테크 허브도시로 도약\n",
      "https://n.news.naver.com/mnews/article/comment/016/0002454144 \n",
      "https://n.news.naver.com/mnews/article/001/0015317381 중기부·대구시, '2025 원스톱기업지원박람회' 공동 개최\n",
      "https://n.news.naver.com/mnews/article/comment/001/0015317381 \n",
      "https://n.news.naver.com/mnews/article/015/0005116583 관세전쟁에 얻어맞은 원화…또 글로벌 금융위기 이후 '최고' [한경 외환시장 워치]\n",
      "https://n.news.naver.com/mnews/article/comment/015/0005116583 \n",
      "https://n.news.naver.com/mnews/article/020/0003626831 한화에어로, 유상증자 비판에 “규모 3.6조→2.3조 축소”\n",
      "https://n.news.naver.com/mnews/article/comment/020/0003626831 \n",
      "https://n.news.naver.com/mnews/article/024/0000096213 “트럼프 완전히 미친 것 같다 ”···석학들 잇딴 경고\n",
      "https://n.news.naver.com/mnews/article/comment/024/0000096213 \n",
      "https://n.news.naver.com/mnews/article/001/0015317987 '관세 우려와 실적 사이' 코스피 소폭 반등해 2,330대 마감(종합)\n",
      "https://n.news.naver.com/mnews/article/comment/001/0015317987 \n",
      "https://n.news.naver.com/mnews/article/081/0003531761 [서울데이터랩]마감 직후 인기 검색 종목 20選\n",
      "https://n.news.naver.com/mnews/article/comment/081/0003531761 \n",
      "https://n.news.naver.com/mnews/article/031/0000922860 한화에어로, \"뼈저리게 반성\"...유증 규모 축소\n",
      "https://n.news.naver.com/mnews/article/comment/031/0000922860 \n",
      "https://n.news.naver.com/mnews/article/001/0015317977 원/달러 환율 금융위기 후 최고 수준…증시는 소폭 반등\n",
      "https://n.news.naver.com/mnews/article/comment/001/0015317977 \n",
      "https://n.news.naver.com/mnews/article/008/0005177573 '관세 104%?' 반격 나서는 중국, 미국 서비스업 수출도 정조준\n",
      "https://n.news.naver.com/mnews/article/comment/008/0005177573 \n",
      "https://n.news.naver.com/mnews/article/018/0005982560 美, 무역협상 대표로 재무장관 지명…제2의 플라자합의 나오나\n",
      "https://n.news.naver.com/mnews/article/comment/018/0005982560 \n",
      "https://n.news.naver.com/mnews/article/022/0004026002 “미국·일본 여행 미뤄야하나”…관세쇼크에 원화 ‘뚝’\n",
      "https://n.news.naver.com/mnews/article/comment/022/0004026002 \n",
      "https://n.news.naver.com/mnews/article/648/0000035141 증시 '패닉셀 후폭풍' 바닥은 어디…자산운용업계, 긴급 점검\n",
      "https://n.news.naver.com/mnews/article/comment/648/0000035141 \n",
      "https://n.news.naver.com/mnews/article/417/0001069525 \"매각 앞두고 몸값 불리나\"… KFC 10개월 만에 또 가격 인상 '눈총'\n",
      "https://n.news.naver.com/mnews/article/comment/417/0001069525 \n",
      "https://n.news.naver.com/mnews/article/417/0001069524 \"내공도 쌓았다\"… 기술반환, 전화위복 계기로 삼는 K제약\n",
      "https://n.news.naver.com/mnews/article/comment/417/0001069524 \n",
      "https://n.news.naver.com/mnews/article/469/0000858340 1분기 반가운 성적표 받은 삼성전자...'트럼프 관세' 충격 흡수 숙제 받았다\n",
      "https://n.news.naver.com/mnews/article/comment/469/0000858340 \n",
      "https://n.news.naver.com/mnews/article/055/0001247454 [D리포트] 삼성 1분기 영업익 6.6조…어닝 서프라이즈 속 불안한 속내\n",
      "https://n.news.naver.com/mnews/article/comment/055/0001247454 \n",
      "https://n.news.naver.com/mnews/article/417/0001069522 원/달러 환율 주간 종가 1473.2원… 금융위기 이후 최고\n",
      "https://n.news.naver.com/mnews/article/comment/417/0001069522 \n",
      "https://n.news.naver.com/mnews/article/003/0013171273 [인터뷰] 조성현 온라인쇼핑협회 회장 \"티메프·발란 파장, 규제가 본질적 해결책 아냐\"\n",
      "https://n.news.naver.com/mnews/article/comment/003/0013171273 \n",
      "https://n.news.naver.com/mnews/article/028/0002739871 전세계 시장서 밀리는 K-배터리…약진하는 BYD\n",
      "https://n.news.naver.com/mnews/article/comment/028/0002739871 \n",
      "https://n.news.naver.com/mnews/article/008/0005177570 \"시장, 이성 잃었다\" 삼성전자에 개인 매수, 외인·기관 매도\n",
      "https://n.news.naver.com/mnews/article/comment/008/0005177570 \n",
      "https://n.news.naver.com/mnews/article/008/0005177569 순식간에 '10조 패닉셀' 외인…\"지금 최고의 주식\" OO은 샀다\n",
      "https://n.news.naver.com/mnews/article/comment/008/0005177569 \n",
      "https://n.news.naver.com/mnews/article/079/0004011490 코스피, 상승폭 반납 0.26%↑마감…환율 금융위기 이후 최고점\n",
      "https://n.news.naver.com/mnews/article/comment/079/0004011490 \n",
      "https://n.news.naver.com/mnews/article/648/0000035140 삼성전자, '갤S25' 날개 달고 깜짝 실적 거뒀다\n",
      "https://n.news.naver.com/mnews/article/comment/648/0000035140 \n",
      "https://n.news.naver.com/mnews/article/001/0015317941 한화에어로 주주배정 유증 축소에 9%↑…방산·조선株 동반 강세(종합)\n",
      "https://n.news.naver.com/mnews/article/comment/001/0015317941 \n",
      "https://n.news.naver.com/mnews/article/008/0005177568 변동성 장세에도 정치 테마주 훨훨…빚내서 달려든 개미들\n",
      "https://n.news.naver.com/mnews/article/comment/008/0005177568 \n",
      "https://n.news.naver.com/mnews/article/008/0005177567 급락에 버틴 '경기방어주' 통신주, 성장주로 변신 가능할까\n",
      "https://n.news.naver.com/mnews/article/comment/008/0005177567 \n",
      "https://n.news.naver.com/mnews/article/421/0008180771 환율 관세전쟁 쇼크…달러당 1473.2원, 금융위기 이후 16년만에 최고(종합)\n",
      "https://n.news.naver.com/mnews/article/comment/421/0008180771 \n",
      "https://n.news.naver.com/mnews/article/014/0005332975 美 재계 '큰손'들, 트럼프 관세 정책 맹비난 \"헛소리\"\n",
      "https://n.news.naver.com/mnews/article/comment/014/0005332975 \n",
      "https://n.news.naver.com/mnews/article/014/0005332974 소프트센, 中소천과기에 초박형 태양광 유리·BIPV 모듈 핵심장비 공급 추진\n",
      "https://n.news.naver.com/mnews/article/comment/014/0005332974 \n",
      "https://n.news.naver.com/mnews/article/003/0013171250 \"이번엔 술자리 면접 논란\"…더본코리아, 상장 이후 최저가 추락\n",
      "https://n.news.naver.com/mnews/article/comment/003/0013171250 \n",
      "https://n.news.naver.com/mnews/article/629/0000380278 삼성·SK·LG, 차분한 창립기념일…경영 위기 속 창업 정신 강조\n",
      "https://n.news.naver.com/mnews/article/comment/629/0000380278 \n",
      "https://n.news.naver.com/mnews/article/629/0000380277 코스피, 상승분 대폭 반납 후 강보합 마감…환율은 금융위기 이후 최고\n",
      "https://n.news.naver.com/mnews/article/comment/629/0000380277 \n",
      "https://n.news.naver.com/mnews/article/032/0003362018 갈 길 먼데 극한 치닫는 미·중 갈등…국내 배터리, 불똥 튈까 노심초사\n",
      "https://n.news.naver.com/mnews/article/comment/032/0003362018 \n",
      "https://n.news.naver.com/mnews/article/018/0005982531 ‘패닉셀 진정’ 코스피, 5거래일만에 반등…코스닥 1% 상승\n",
      "https://n.news.naver.com/mnews/article/comment/018/0005982531 \n",
      "https://n.news.naver.com/mnews/article/001/0015317901 BBQ, 위메프 인수의향서 제출…\"검토 초기 단계\"\n",
      "https://n.news.naver.com/mnews/article/comment/001/0015317901 \n",
      "https://n.news.naver.com/mnews/article/011/0004471598 카드업계, 아시아나 제휴카드 발급 중단\n",
      "https://n.news.naver.com/mnews/article/comment/011/0004471598 \n",
      "https://n.news.naver.com/mnews/article/366/0001067663 해외서 발 뺀 이중항체, 韓 기업들이 이끈다\n",
      "https://n.news.naver.com/mnews/article/comment/366/0001067663 \n"
     ]
    }
   ],
   "source": [
    "import requests\n",
    "from bs4 import BeautifulSoup\n",
    "\n",
    "section_dict = {\n",
    "    100: \"정치\",\n",
    "    101: \"경제\",\n",
    "    102: \"사회\",\n",
    "    103: \"생활/문화\",\n",
    "    104: \"세계\",\n",
    "    105: \"IT/과학\",\n",
    "}\n",
    "\n",
    "\n",
    "def print_news(sid):  # print_new(103)\n",
    "    section = section_dict[sid]\n",
    "    url = f\"https://news.naver.com/section/{sid}\"\n",
    "    print(f\"=====> {url} {section} 뉴스 <=====\")\n",
    "\n",
    "    # 요청 헤더 설정 : 브라우저 정보 (사람처럼 보이게 하려고 설정하는 것임)\n",
    "    req_header = {\n",
    "        \"user-agent\": \"Mozilla/5.0 (Windows NT 10.0; Win64; x64) AppleWebKit/537.36 (KHTML, like Gecko) Chrome/104.0.0.0 Safari/537.36\"\n",
    "    }\n",
    "\n",
    "    # requests 의 get() 함수 호출하기\n",
    "    res = requests.get(url, headers=req_header)\n",
    "    print(res)\n",
    "    print(type(res))\n",
    "    print(res.status_code, res.ok)\n",
    "\n",
    "    # 응답(response)이 OK 이면\n",
    "    if res.ok:\n",
    "        # 응답 (response)에서 text 추출 - source 보기\n",
    "        html = res.text\n",
    "        # BeautifulSoup 객체 생성\n",
    "        soup = BeautifulSoup(html, \"html.parser\")\n",
    "        \n",
    "        print(len(soup.select(\"div.sa_text a[href*='mnews/article']\")))\n",
    "        a_tag_list = soup.select(\"div.sa_text a[href*='mnews/article']\")    \n",
    "        print(type(a_tag_list))  # [<a href=\"http://\">뉴스제목</a>] ResultSet객체 , <a></a> : Tag 객체\n",
    "        \n",
    "        for a_tag in a_tag_list:\n",
    "            # print(type(a_tag))\n",
    "            title = a_tag.text.strip()\n",
    "            # href 속성의 값을 가져오기\n",
    "            link = a_tag[\"href\"]\n",
    "            print(link, title)\n",
    "    else:\n",
    "        # 응답(response)이 Error 이면 status code 출력\n",
    "        print(f\"에러 코드 = {res.status_code}\")\n",
    "\n",
    "# 함수호출\n",
    "print_news(101)"
   ]
  },
  {
   "cell_type": "markdown",
   "id": "323196dc",
   "metadata": {},
   "source": [
    "### 2. Image 다운로드\n",
    "* referer 요청 헤더를 반드시 설정해야 한다."
   ]
  },
  {
   "cell_type": "code",
   "execution_count": null,
   "id": "c72d6cb1",
   "metadata": {},
   "outputs": [
    {
     "name": "stdout",
     "output_type": "stream",
     "text": [
      "200\n",
      "writing to 20220804112251_d97bd1e1b38f0cd022e4e3639d2926b3_IMAG01_1.jpg(299,319 bytes)\n",
      "200\n",
      "writing to 20220804112251_d97bd1e1b38f0cd022e4e3639d2926b3_IMAG01_2.jpg(163,333 bytes)\n",
      "200\n",
      "writing to 20220804112251_d97bd1e1b38f0cd022e4e3639d2926b3_IMAG01_3.jpg(182,530 bytes)\n"
     ]
    }
   ],
   "source": [
    "import requests\n",
    "import os\n",
    "\n",
    "req_header = {\n",
    "    'referer':''\n",
    "}\n",
    "\n",
    "img_urls = [\n",
    "    'https://image-comic.pstatic.net/webtoon/798173/5/20220804112251_d97bd1e1b38f0cd022e4e3639d2926b3_IMAG01_1.jpg',\n",
    "    'https://image-comic.pstatic.net/webtoon/798173/5/20220804112251_d97bd1e1b38f0cd022e4e3639d2926b3_IMAG01_2.jpg',\n",
    "    'https://image-comic.pstatic.net/webtoon/798173/5/20220804112251_d97bd1e1b38f0cd022e4e3639d2926b3_IMAG01_3.jpg'\n",
    "]\n",
    "\n",
    "for img_url in img_urls:\n",
    "    pass\n",
    "    # requests 의 get(url, headers) 함수 호출하기 \n",
    "        \n",
    "        # binary 응답 데이터 가져오기\n",
    "        \n",
    "        # url에서 파일명만 추출하기\n",
    "        \n",
    "        # binday data를 file에 write하기\n"
   ]
  },
  {
   "cell_type": "markdown",
   "id": "e8b00a04",
   "metadata": {},
   "source": [
    "* 현재 요청된 페이지의 image 모두 다운로드 해보기"
   ]
  },
  {
   "cell_type": "code",
   "execution_count": null,
   "id": "b30f7bf5",
   "metadata": {},
   "outputs": [],
   "source": []
  },
  {
   "cell_type": "markdown",
   "id": "2ac9f5f9",
   "metadata": {},
   "source": [
    "### 3. 파일 업로드 하기\n",
    "* http://httpbin.org/post 업로드 요청을 할 수 있는 url"
   ]
  },
  {
   "cell_type": "code",
   "execution_count": null,
   "id": "04da4790",
   "metadata": {},
   "outputs": [
    {
     "name": "stdout",
     "output_type": "stream",
     "text": [
      "200\n"
     ]
    }
   ],
   "source": [
    "import requests\n",
    "\n",
    "upload_files = {\n",
    "    \n",
    "}\n",
    "#print(upload_files)\n",
    "\n",
    "url = 'http://httpbin.org/post'\n",
    "# file 업로드 하려면 requests의 post 함수에 files 속성을 사용합니다.\n",
    "\n"
   ]
  },
  {
   "cell_type": "markdown",
   "id": "7ad65f12",
   "metadata": {},
   "source": [
    "### 4. 캡챠(이미지) API 호출하기\n",
    "* urllib 사용\n",
    "* 1. 캡차 키 발급 요청\n",
    "  2. 캡차 이미지 요청\n",
    "  3. 사용자 입력값 검증 요청"
   ]
  },
  {
   "cell_type": "code",
   "execution_count": 2,
   "id": "bc4ae360-e772-4873-8642-d3494edd34e1",
   "metadata": {},
   "outputs": [],
   "source": [
    "# 캡차 키 발급 요청\n"
   ]
  },
  {
   "cell_type": "code",
   "execution_count": 1,
   "id": "7b95b6a0-c218-4792-82a6-da4d80872071",
   "metadata": {},
   "outputs": [],
   "source": [
    "# 캡차 이미지 요청\n"
   ]
  },
  {
   "cell_type": "code",
   "execution_count": 3,
   "id": "a79076af-2cd0-4de2-8301-316b9130c55e",
   "metadata": {},
   "outputs": [],
   "source": [
    "#  사용자 입력값 검증 요청\n",
    "\n"
   ]
  },
  {
   "cell_type": "markdown",
   "id": "b7d984a6",
   "metadata": {},
   "source": [
    "* requests를 사용하는 코드로 변경하기\n",
    "* [requests docs](https://requests.readthedocs.io/en/latest/user/quickstart/)"
   ]
  },
  {
   "cell_type": "code",
   "execution_count": null,
   "id": "727b427b",
   "metadata": {
    "scrolled": true
   },
   "outputs": [
    {
     "name": "stdout",
     "output_type": "stream",
     "text": [
      "Error Code: 403\n"
     ]
    }
   ],
   "source": [
    "# 사용자 입력값 검증 요청\n",
    "\n"
   ]
  },
  {
   "cell_type": "markdown",
   "id": "d5e1179a",
   "metadata": {},
   "source": [
    "### 5. 블로그 검색하기"
   ]
  },
  {
   "cell_type": "code",
   "execution_count": null,
   "id": "877d0c7f",
   "metadata": {},
   "outputs": [],
   "source": [
    "import requests\n",
    "import pprint\n",
    "\n",
    "headers = {\n",
    "    'X-Naver-Client-Id': '',\n",
    "    'X-Naver-Client-Secret': '',\n",
    "}\n",
    "\n",
    "payload = {\n",
    "    'query': '파이썬',\n",
    "    'display': 100,\n",
    "    'sort': 'sim'\n",
    "}\n",
    "\n",
    "url = 'https://openapi.naver.com/v1/search/blog.json'\n",
    "\n",
    "\n",
    "# requests get(url, params, headers) 요청 \n",
    "\n",
    "# json() 함수로 응답 결과 가져오오기\n",
    "# 'title' , 'bloggername' , 'description' , 'bloggerlink' , 'link'\n",
    "\n",
    "# 'data/nhnblog.txt' 파일 생성하기\n"
   ]
  }
 ],
 "metadata": {
  "kernelspec": {
   "display_name": "base",
   "language": "python",
   "name": "python3"
  },
  "language_info": {
   "codemirror_mode": {
    "name": "ipython",
    "version": 3
   },
   "file_extension": ".py",
   "mimetype": "text/x-python",
   "name": "python",
   "nbconvert_exporter": "python",
   "pygments_lexer": "ipython3",
   "version": "3.12.7"
  }
 },
 "nbformat": 4,
 "nbformat_minor": 5
}
