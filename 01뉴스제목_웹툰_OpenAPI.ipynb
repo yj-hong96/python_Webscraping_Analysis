{
 "cells": [
  {
   "cell_type": "markdown",
   "id": "eb0bfa44",
   "metadata": {},
   "source": [
    "## 1. 뉴스제목 가져오기\n",
    "* user-agent 요청헤더를 반드시 설정해야 한다."
   ]
  },
  {
   "cell_type": "code",
   "execution_count": null,
   "id": "f0d27781",
   "metadata": {},
   "outputs": [
    {
     "name": "stdout",
     "output_type": "stream",
     "text": [
      "Name: requests\n",
      "Version: 2.32.3\n",
      "Summary: Python HTTP for Humans.\n",
      "Home-page: https://requests.readthedocs.io\n",
      "Author: Kenneth Reitz\n",
      "Author-email: me@kennethreitz.org\n",
      "License: Apache-2.0\n",
      "Location: C:\\Users\\KOSTA\\anaconda3\\Lib\\site-packages\n",
      "Requires: certifi, charset-normalizer, idna, urllib3\n",
      "Required-by: anaconda-catalogs, anaconda-client, anaconda-cloud-auth, anaconda-project, conda, conda-build, conda-repo-cli, conda_package_streaming, cookiecutter, datashader, jupyterlab_server, panel, requests-file, requests-toolbelt, Sphinx, streamlit, tldextract\n"
     ]
    }
   ],
   "source": [
    "# requests 라이브러리 설치여부 확인"
   ]
  },
  {
   "cell_type": "code",
   "execution_count": null,
   "id": "f7798ea8",
   "metadata": {},
   "outputs": [
    {
     "name": "stdout",
     "output_type": "stream",
     "text": [
      "Name: beautifulsoup4\n",
      "Version: 4.12.3\n",
      "Summary: Screen-scraping library\n",
      "Home-page: https://www.crummy.com/software/BeautifulSoup/bs4/\n",
      "Author: \n",
      "Author-email: Leonard Richardson <leonardr@segfault.org>\n",
      "License: MIT License\n",
      "Location: C:\\Users\\KOSTA\\anaconda3\\Lib\\site-packages\n",
      "Requires: soupsieve\n",
      "Required-by: conda-build, nbconvert\n"
     ]
    }
   ],
   "source": [
    "# beautifulsoup4 라이브러리 설치여부 확인"
   ]
  },
  {
   "cell_type": "code",
   "execution_count": null,
   "id": "bf80a429",
   "metadata": {},
   "outputs": [],
   "source": [
    "# reqeusts, bs4 import\n",
    "\n",
    "# BeautifulSoup 클래스 import\n"
   ]
  },
  {
   "cell_type": "code",
   "execution_count": null,
   "id": "9788d6ac",
   "metadata": {},
   "outputs": [
    {
     "name": "stdout",
     "output_type": "stream",
     "text": [
      "requests 버전 2.32.3\n",
      "beautifulsoup 버전 4.12.3\n"
     ]
    }
   ],
   "source": [
    "# requests, bs4 버전 확인하기"
   ]
  },
  {
   "cell_type": "markdown",
   "id": "ccb91def-cde3-4aeb-b0e5-2e7233500333",
   "metadata": {},
   "source": [
    "### 1. 뉴스 제목 추출하기"
   ]
  },
  {
   "cell_type": "code",
   "execution_count": null,
   "id": "94c12fd6",
   "metadata": {},
   "outputs": [
    {
     "name": "stdout",
     "output_type": "stream",
     "text": [
      "https://news.naver.com/section/105\n",
      "<class 'requests.models.Response'>\n",
      "200\n",
      "<class 'bs4.element.ResultSet'>\n",
      "LGU+, 저수익사업 정리·AI 확장…\"별도기준 서비스수익 2% 성장\" https://n.news.naver.com/mnews/article/421/0008060207\n",
      " https://n.news.naver.com/mnews/article/comment/421/0008060207\n",
      "넥슨, 신작 '마비노기 모바일' 3월 27일 정식 출시 https://n.news.naver.com/mnews/article/421/0008059334\n",
      " https://n.news.naver.com/mnews/article/comment/421/0008059334\n",
      "딥시크발 ‘AI 바겐세일’ 시작?…구글, 가격 낮춘 제미나이 전격 공개 https://n.news.naver.com/mnews/article/032/0003349403\n",
      " https://n.news.naver.com/mnews/article/comment/032/0003349403\n",
      "LG CNS, 국내 최초로 SAP 아태지역 전략 서비스 파트너 합류 https://n.news.naver.com/mnews/article/277/0005542326\n",
      " https://n.news.naver.com/mnews/article/comment/277/0005542326\n",
      "허성욱 NIPA 원장 \"中 딥시크·스타게이트에 적극 대응해야\"(종합) https://n.news.naver.com/mnews/article/003/0013051346\n",
      " https://n.news.naver.com/mnews/article/comment/003/0013051346\n",
      "더존비즈온, 사상 첫 연 매출 4000억 달성 https://n.news.naver.com/mnews/article/366/0001051655\n",
      " https://n.news.naver.com/mnews/article/comment/366/0001051655\n",
      "기대에 못미친 성적표 받은 LG유플러스, 활로는 ‘이것’뿐이라는데 https://n.news.naver.com/mnews/article/009/0005439315\n",
      " https://n.news.naver.com/mnews/article/comment/009/0005439315\n",
      "트럼프 2기 정부 지식재산도 美 우선주의…\"분쟁위험 대비해야\" https://n.news.naver.com/mnews/article/003/0013050915\n",
      " https://n.news.naver.com/mnews/article/comment/003/0013050915\n",
      "“딥시크같은 기업, 중국에 100개 더 있다”…한국, 데이터·인재·인프라 총동원해야 https://n.news.naver.com/mnews/article/030/0003281782\n",
      " https://n.news.naver.com/mnews/article/comment/030/0003281782\n",
      "\"통상임금 영향\"…롯데쇼핑, 지난해 영업익 6.9%↓ https://n.news.naver.com/mnews/article/092/0002362215\n",
      " https://n.news.naver.com/mnews/article/comment/092/0002362215\n",
      "韓 AI 회사 \"지금이 오히려 기회…딥시크 10개 만들 방법 있다\" [팩플] https://n.news.naver.com/mnews/article/025/0003419093\n",
      " https://n.news.naver.com/mnews/article/comment/025/0003419093\n",
      "美 USTR 대표 후보, ‘韓 플랫폼 규제’ 반대 선언하나.. 관세보복 우려 https://n.news.naver.com/mnews/article/014/0005304695\n",
      " https://n.news.naver.com/mnews/article/comment/014/0005304695\n",
      "LG AI연구원 \"딥시크 R1수준 오픈소스로 공개\" https://n.news.naver.com/mnews/article/011/0004447583\n",
      " https://n.news.naver.com/mnews/article/comment/011/0004447583\n",
      "SKT \"韓 LLM 많지만 시장서 쓰여야\"…LG \"조만간 딥시크 수준 모델 오픈소스 공개\" https://n.news.naver.com/mnews/article/029/0002933745\n",
      " https://n.news.naver.com/mnews/article/comment/029/0002933745\n",
      "트럼프 관세폭풍에 K-제약바이오도 불똥, 대응 급한 기업들 https://n.news.naver.com/mnews/article/029/0002933744\n",
      " https://n.news.naver.com/mnews/article/comment/029/0002933744\n",
      "“구글, 5년 내 양자컴퓨팅 상용 앱 개발 목표” https://n.news.naver.com/mnews/article/366/0001051868\n",
      " https://n.news.naver.com/mnews/article/comment/366/0001051868\n",
      "HLB \"리보세라닙 내년까지 3가지 암종 적응증 목표\" https://n.news.naver.com/mnews/article/015/0005090615\n",
      " https://n.news.naver.com/mnews/article/comment/015/0005090615\n",
      "\"돈 안되는 서비스 확 줄이겠다\"…'수익 비상' LGU+, 사업 재편 속도 https://n.news.naver.com/mnews/article/003/0013051768\n",
      " https://n.news.naver.com/mnews/article/comment/003/0013051768\n",
      "'HBM 검사 속도 5배 UP' SK하이닉스, 코비스와 신장비 적용 https://n.news.naver.com/mnews/article/030/0003281759\n",
      " https://n.news.naver.com/mnews/article/comment/030/0003281759\n",
      "`AI 수익화` 기치…LGU+ \"`익시오` 일부 기능 유료화할 것\" https://n.news.naver.com/mnews/article/029/0002933737\n",
      " https://n.news.naver.com/mnews/article/comment/029/0002933737\n",
      "'한국형 딥시크' 나오는 방법…LLM도 칩도 독자 모델 필요 https://n.news.naver.com/mnews/article/018/0005938079\n",
      " https://n.news.naver.com/mnews/article/comment/018/0005938079\n",
      "딥시크 쇼크에 요동치는 AI시장…HS효성인포, '비용혁신'으로 승부수 https://n.news.naver.com/mnews/article/031/0000906452\n",
      " https://n.news.naver.com/mnews/article/comment/031/0000906452\n",
      "[르포]\"헌 종이 넣고 새 종이 뽑는 마술 프린터\" 엡손, '뉴 페이퍼랩' 첫 선 https://n.news.naver.com/mnews/article/014/0005304663\n",
      " https://n.news.naver.com/mnews/article/comment/014/0005304663\n",
      "\"오픈AI 넘사벽 아니더라...韓서 딥시크 수준 만들 수 있다\" https://n.news.naver.com/mnews/article/092/0002362203\n",
      " https://n.news.naver.com/mnews/article/comment/092/0002362203\n",
      "투병 3개월 만에 '하늘의 별' 된 이주실…위암, 어떤 병이길래 https://n.news.naver.com/mnews/article/421/0008059970\n",
      " https://n.news.naver.com/mnews/article/comment/421/0008059970\n",
      "게임업계 ‘NK’ 2강 구도 굳힌다… AI부터 인도까지 광폭 투자 나선 크래프톤 https://n.news.naver.com/mnews/article/366/0001051845\n",
      " https://n.news.naver.com/mnews/article/comment/366/0001051845\n",
      "5G요금 인가과정 도마…참여연대 \"SKT, 산정근거 왜곡\" https://n.news.naver.com/mnews/article/008/0005149751\n",
      " https://n.news.naver.com/mnews/article/comment/008/0005149751\n",
      "전세계 딥시크 차단에도, 본국서 열풍 지속…채용공고 보니 https://n.news.naver.com/mnews/article/015/0005090568\n",
      " https://n.news.naver.com/mnews/article/comment/015/0005090568\n",
      "올트먼이 만든다는 의료 언어 AI, 韓도 올해부터 본격 개발 https://n.news.naver.com/mnews/article/366/0001051843\n",
      " https://n.news.naver.com/mnews/article/comment/366/0001051843\n",
      "딥시크 충격파에...\"정부가 추격조 만들어 파격 지원해야\" https://n.news.naver.com/mnews/article/031/0000906433\n",
      " https://n.news.naver.com/mnews/article/comment/031/0000906433\n",
      "하나마이크론 “베트남 패키징 물량 증가…내후년 1조 넘을 것” https://n.news.naver.com/mnews/article/030/0003281739\n",
      " https://n.news.naver.com/mnews/article/comment/030/0003281739\n",
      "[人사이트]조강원 모레 대표, “한국의 딥시크 만들겠다” https://n.news.naver.com/mnews/article/030/0003281734\n",
      " https://n.news.naver.com/mnews/article/comment/030/0003281734\n",
      "국내 진출 中가전 AS는 뒷전 https://n.news.naver.com/mnews/article/030/0003281733\n",
      " https://n.news.naver.com/mnews/article/comment/030/0003281733\n",
      "단백질 '4차 구조' 최대 1만배 빠르게 식별·비교 도구 나왔다 https://n.news.naver.com/mnews/article/584/0000030792\n",
      " https://n.news.naver.com/mnews/article/comment/584/0000030792\n",
      "\"기밀 유출 막아라\" 관가·재계 휩쓴 '딥시크 금지령' https://n.news.naver.com/mnews/article/008/0005149731\n",
      " https://n.news.naver.com/mnews/article/comment/008/0005149731\n",
      "딥시크 충격에도…美 빅테크 AI 투자 지속, 메모리 수혜 '굳건' [소부장반차장] https://n.news.naver.com/mnews/article/138/0002190431\n",
      " https://n.news.naver.com/mnews/article/comment/138/0002190431\n",
      "\"'5G 전환'에 통신비 월 2만5천원 증가…SKT 소비자 기만\"(종합) https://n.news.naver.com/mnews/article/001/0015196313\n",
      " https://n.news.naver.com/mnews/article/comment/001/0015196313\n",
      "참여연대 “SK텔레콤, LTE→5G 전환 유도해 국민 통신비 부담 49% 늘려… 각종 지원금·불법보조금 몰아줘” https://n.news.naver.com/mnews/article/366/0001051828\n",
      " https://n.news.naver.com/mnews/article/comment/366/0001051828\n",
      "HLB 신약개발 로드맵 공개, '암종불문 항암제' 개발 박차 https://n.news.naver.com/mnews/article/014/0005304637\n",
      " https://n.news.naver.com/mnews/article/comment/014/0005304637\n",
      "[이준기의 D사이언스] \"양자컴 하나로 연결하고 멀티코어 양자프로세서 도전\" https://n.news.naver.com/mnews/article/029/0002933716\n",
      " https://n.news.naver.com/mnews/article/comment/029/0002933716\n",
      "[단독]돈 벌 준비하는 ‘엔씨 AI’…사업화 전문가 임수진 영입 https://n.news.naver.com/mnews/article/018/0005938010\n",
      " https://n.news.naver.com/mnews/article/comment/018/0005938010\n",
      "[종합] 美 리스크·수요 부진 지속…K-배터리, 하반기 뒷심 노린다 [소부장박대리] https://n.news.naver.com/mnews/article/138/0002190429\n",
      " https://n.news.naver.com/mnews/article/comment/138/0002190429\n",
      "[단독] 예산 늘렸지만 슈퍼컴퓨터 6호기 입찰 또 불발…“단독 응찰로 재공고” https://n.news.naver.com/mnews/article/366/0001051820\n",
      " https://n.news.naver.com/mnews/article/comment/366/0001051820\n",
      "작년 역대 최대 실적 쓴 LG CNS, AI·클라우드가 견인…주가상승 기대감 https://n.news.naver.com/mnews/article/138/0002190426\n",
      " https://n.news.naver.com/mnews/article/comment/138/0002190426\n"
     ]
    }
   ],
   "source": [
    "# IT/과학 뉴스 \n",
    "req_param = {\n",
    "    'sid': 105\n",
    "}\n",
    "# \n",
    "url = 'https://news.naver.com/section/{sid}'.format(**req_param)\n",
    "print(url)\n",
    "\n",
    "# 요청 헤더 설정 : 브라우저 정보\n",
    "req_header = {\n",
    "    \n",
    "}\n",
    "\n",
    "# requests 의 get() 함수 호출하기 \n",
    "\n",
    "# 응답(response)이 OK 이면\n",
    "# 응답 (response)에서 text 추출\n",
    "# BeautifulSoup 객체 생성  \n",
    "# CSS 선택자\n",
    "# print(soup.select(\"div.sa_text a[href*='mnews/article']\"))\n",
    "\n",
    "# <a> 태그 리스트 순회하기    \n",
    "\n",
    "# 응답(response)이 Error 이면 status code 출력    \n",
    "\n"
   ]
  },
  {
   "cell_type": "markdown",
   "id": "45640860-a449-4285-90d7-5f300292b461",
   "metadata": {},
   "source": [
    "### 1.1 뉴스제목 추출하는 함수 선언하기"
   ]
  },
  {
   "cell_type": "code",
   "execution_count": null,
   "id": "9f2e4ef8",
   "metadata": {},
   "outputs": [],
   "source": [
    "import requests\n",
    "from bs4 import BeautifulSoup\n",
    "\n",
    "section_dict = {100:'정치',101:'경제',102:'사회',103:'생활/문화',104:'세계',105:'IT/과학'}\n",
    "\n",
    "def print_news(sid, section):  #print_new(103,'생활/문화') \n",
    "    pass"
   ]
  },
  {
   "cell_type": "code",
   "execution_count": 28,
   "id": "858952c6",
   "metadata": {},
   "outputs": [
    {
     "name": "stdout",
     "output_type": "stream",
     "text": [
      "======> https://news.naver.com/section/103 생활/문화 뉴스 <======\n",
      "40\n",
      "\n",
      " 주말까지 강추위 계속‥오전, 호남·제주 3~8cm 눈[날씨]\n",
      "\n",
      "기사링크 = https://n.news.naver.com/mnews/article/214/0001403915\n",
      "\n",
      "케이카, 지난해 연간 영업익 15.4%↑…\"올해도 두 자릿수 성장\"\n",
      "\n",
      "기사링크 = https://n.news.naver.com/mnews/article/018/0005937501\n",
      "\n",
      "넓은 마당에 연못 갖춘 대형 건물…신라 태자의 '동궁' 찾았다\n",
      "\n",
      "기사링크 = https://n.news.naver.com/mnews/article/001/0015194593\n",
      "\n",
      "KGM, 액티언에 '파노라마 선루프' 적용 출시\n",
      "\n",
      "기사링크 = https://n.news.naver.com/mnews/article/001/0015194928\n",
      "\n",
      "퇴근길 교통사고로 뇌사…30세 방사선사, 6명에 새삶 주고 떠났다\n",
      "\n",
      "기사링크 = https://n.news.naver.com/mnews/article/025/0003419039\n",
      "\n",
      "일주일에 계란 몇 개?...'이만큼' 먹어라! 심장질환 위험 낮춘다\n",
      "\n",
      "기사링크 = https://n.news.naver.com/mnews/article/296/0000086475\n",
      "\n",
      "퇴근길 또 '눈' 소식…주말까지 '꽁꽁'\n",
      "\n",
      "기사링크 = https://n.news.naver.com/mnews/article/215/0001197565\n",
      "\n",
      "오후부터 중부지방 많은 눈…동장군 기세 주말 이후 꺾여\n",
      "\n",
      "기사링크 = https://n.news.naver.com/mnews/article/003/0013050704\n",
      "\n",
      "강추위 속 오후부터 전국 눈…호남·충청 최대 15cm↑\n",
      "\n",
      "기사링크 = https://n.news.naver.com/mnews/article/055/0001229272\n",
      "\n",
      "퇴근길 눈 비상…수도권 등 중부 최대 10㎝ 대설\n",
      "\n",
      "기사링크 = https://n.news.naver.com/mnews/article/422/0000711291\n",
      "\n",
      "경주 동궁과월지 추적 10년… 신라의 ‘진짜 동궁터’ 찾았다\n",
      "\n",
      "기사링크 = https://n.news.naver.com/mnews/article/021/0002688274\n",
      "\n",
      "특별한 밸런타인데이 선물, 세상에 단 하나뿐인 수제 초콜릿 바 [쿠킹]\n",
      "\n",
      "기사링크 = https://n.news.naver.com/mnews/article/025/0003419027\n",
      "\n",
      "웨이모와 손잡은 우버, 美 오스틴·애틀랜타에서도 무인 택시 탄다\n",
      "\n",
      "기사링크 = https://n.news.naver.com/mnews/article/014/0005304469\n",
      "\n",
      "하루 중 기분 좋은 시간, 아침에 최상…최악은 언제?\n",
      "\n",
      "기사링크 = https://n.news.naver.com/mnews/article/296/0000086474\n",
      "\n",
      "옥저海 건너와, 자기 땅에서 유배된 북미 선주민들[함영훈의 멋·맛·쉼]\n",
      "\n",
      "기사링크 = https://n.news.naver.com/mnews/article/016/0002424881\n",
      "\n",
      "“턱 전체에 ‘공동묘지’ 타투”… 묘비·무덤·거미줄까지, 왜 새겼냐 물으니?\n",
      "\n",
      "기사링크 = https://n.news.naver.com/mnews/article/346/0000087074\n",
      "\n",
      "구준엽, 아내 서희원 유해 품고 대만으로…\"작별식 안 한다\"\n",
      "\n",
      "기사링크 = https://n.news.naver.com/mnews/article/079/0003988755\n",
      "\n",
      "젊은 층은 인스타, 50·60대는 밴드 선호…전 연령 1위는 카톡\n",
      "\n",
      "기사링크 = https://n.news.naver.com/mnews/article/001/0015195201\n",
      "\n",
      "분노한 청년들 “이제 복수할 때가 왔다”\n",
      "\n",
      "기사링크 = https://n.news.naver.com/mnews/article/082/0001310530\n",
      "\n",
      "요즘 한국 추운 이유…알고보니 원인 지목된 ‘이것’\n",
      "\n",
      "기사링크 = https://n.news.naver.com/mnews/article/018/0005937626\n",
      "\n",
      "미완의 의료개혁…해법은 ‘공공의료’ 강화[북적book적]\n",
      "\n",
      "기사링크 = https://n.news.naver.com/mnews/article/016/0002424766\n",
      "\n",
      "“‘이 음식’ 먹고 살찜” 강민경, 맛있지만 지방·나트륨 다량… 뭐였을까?\n",
      "\n",
      "기사링크 = https://n.news.naver.com/mnews/article/346/0000087070\n",
      "\n",
      "HK이노엔, ‘케이캡’ 물질특허 1심 이어 2심도 승소 “국산 신약 가치 인정”\n",
      "\n",
      "기사링크 = https://n.news.naver.com/mnews/article/346/0000087069\n",
      "\n",
      "이지혜, 요즘 ‘이 음식’ 푹 빠져 볶음밥까지… 알고 보면 살찌는 지름길?\n",
      "\n",
      "기사링크 = https://n.news.naver.com/mnews/article/346/0000087068\n",
      "\n",
      "신애라, 아침에 '이것' 매일 마셔…혈당 걱정 없다는데, 뭐길래?\n",
      "\n",
      "기사링크 = https://n.news.naver.com/mnews/article/296/0000086469\n",
      "\n",
      "아이브 레이, 다이어트 할 때 ‘이 음식’ 절대 피한다… 뭘까?\n",
      "\n",
      "기사링크 = https://n.news.naver.com/mnews/article/346/0000087067\n",
      "\n",
      "“18kg 훅 찌웠다”… 장혜진 밤마다 먹은 ‘이 음식’, 실제 나트륨 폭탄?\n",
      "\n",
      "기사링크 = https://n.news.naver.com/mnews/article/346/0000087066\n",
      "\n",
      "신라 태자 살던 ‘동궁’, 월지 동편서 유력 건물 터 발견\n",
      "\n",
      "기사링크 = https://n.news.naver.com/mnews/article/028/0002729712\n",
      "\n",
      "“15살에 임신했지만, 이젠 의대생”… 미국 21세 女 ‘성공 스토리’ 공개, 사연 보니?\n",
      "\n",
      "기사링크 = https://n.news.naver.com/mnews/article/346/0000087065\n",
      "\n",
      "신라 태자의 '진짜 동궁' 찾았다…넓은 마당에 연못 갖춰\n",
      "\n",
      "기사링크 = https://n.news.naver.com/mnews/article/022/0004008465\n",
      "\n",
      "사실상 ‘0’대인 조류탐지 레이더...국내 모든 공항에 도입\n",
      "\n",
      "기사링크 = https://n.news.naver.com/mnews/article/025/0003418998\n",
      "\n",
      "제니도 사러 간다는데…\"명품백 헐값에 득템\" 엄지척 [안혜원의 명품의세계]\n",
      "\n",
      "기사링크 = https://n.news.naver.com/mnews/article/015/0005090310\n",
      "\n",
      "알리·테무 이어 딥시크까지…中 바람, 여행업계까지 불까\n",
      "\n",
      "기사링크 = https://n.news.naver.com/mnews/article/009/0005439211\n",
      "\n",
      "유럽에서 명품쇼핑하고 ‘신고사항 없음’ 표시 전 알아야 할 것 [여행 팩트체크]\n",
      "\n",
      "기사링크 = https://n.news.naver.com/mnews/article/009/0005439210\n",
      "\n",
      "“이제 복수할 때” 분노한 2030남성들의 기이한 반란 [북적book적]\n",
      "\n",
      "기사링크 = https://n.news.naver.com/mnews/article/016/0002424721\n",
      "\n",
      "\"아이폰4급 혁신 온다\"…中 샤오펑, L3 자율주행 최초 실현 예고\n",
      "\n",
      "기사링크 = https://n.news.naver.com/mnews/article/092/0002362120\n",
      "\n",
      "한파에 서울시 '수도계량기 동파 경계' 8일까지 연장(종합)\n",
      "\n",
      "기사링크 = https://n.news.naver.com/mnews/article/001/0015194800\n",
      "\n",
      "[930 날씨] 오늘 오후~내일 오전 전국 대부분 눈…강추위 계속\n",
      "\n",
      "기사링크 = https://n.news.naver.com/mnews/article/056/0011887486\n",
      "\n",
      "뜨거운 커피, 식도암 주의하세요\n",
      "\n",
      "기사링크 = https://n.news.naver.com/mnews/article/145/0000021700\n",
      "\n",
      "하루 5000kcal 먹으며 체중 감량한 英여성... 이 식단, 부작용은?\n",
      "\n",
      "기사링크 = https://n.news.naver.com/mnews/article/023/0003886344\n"
     ]
    }
   ],
   "source": [
    "print_news(103,section_dict[103])"
   ]
  },
  {
   "cell_type": "markdown",
   "id": "323196dc",
   "metadata": {},
   "source": [
    "### 2. Image 다운로드\n",
    "* referer 요청 헤더를 반드시 설정해야 한다."
   ]
  },
  {
   "cell_type": "code",
   "execution_count": null,
   "id": "c72d6cb1",
   "metadata": {},
   "outputs": [
    {
     "name": "stdout",
     "output_type": "stream",
     "text": [
      "200\n",
      "writing to 20220804112251_d97bd1e1b38f0cd022e4e3639d2926b3_IMAG01_1.jpg(299,319 bytes)\n",
      "200\n",
      "writing to 20220804112251_d97bd1e1b38f0cd022e4e3639d2926b3_IMAG01_2.jpg(163,333 bytes)\n",
      "200\n",
      "writing to 20220804112251_d97bd1e1b38f0cd022e4e3639d2926b3_IMAG01_3.jpg(182,530 bytes)\n"
     ]
    }
   ],
   "source": [
    "import requests\n",
    "import os\n",
    "\n",
    "req_header = {\n",
    "    'referer':''\n",
    "}\n",
    "\n",
    "img_urls = [\n",
    "    'https://image-comic.pstatic.net/webtoon/798173/5/20220804112251_d97bd1e1b38f0cd022e4e3639d2926b3_IMAG01_1.jpg',\n",
    "    'https://image-comic.pstatic.net/webtoon/798173/5/20220804112251_d97bd1e1b38f0cd022e4e3639d2926b3_IMAG01_2.jpg',\n",
    "    'https://image-comic.pstatic.net/webtoon/798173/5/20220804112251_d97bd1e1b38f0cd022e4e3639d2926b3_IMAG01_3.jpg'\n",
    "]\n",
    "\n",
    "for img_url in img_urls:\n",
    "    pass\n",
    "    # requests 의 get(url, headers) 함수 호출하기 \n",
    "        \n",
    "        # binary 응답 데이터 가져오기\n",
    "        \n",
    "        # url에서 파일명만 추출하기\n",
    "        \n",
    "        # binday data를 file에 write하기\n"
   ]
  },
  {
   "cell_type": "markdown",
   "id": "e8b00a04",
   "metadata": {},
   "source": [
    "* 현재 요청된 페이지의 image 모두 다운로드 해보기"
   ]
  },
  {
   "cell_type": "code",
   "execution_count": null,
   "id": "b30f7bf5",
   "metadata": {},
   "outputs": [],
   "source": []
  },
  {
   "cell_type": "markdown",
   "id": "2ac9f5f9",
   "metadata": {},
   "source": [
    "### 3. 파일 업로드 하기\n",
    "* http://httpbin.org/post 업로드 요청을 할 수 있는 url"
   ]
  },
  {
   "cell_type": "code",
   "execution_count": null,
   "id": "04da4790",
   "metadata": {},
   "outputs": [
    {
     "name": "stdout",
     "output_type": "stream",
     "text": [
      "200\n"
     ]
    }
   ],
   "source": [
    "import requests\n",
    "\n",
    "upload_files = {\n",
    "    \n",
    "}\n",
    "#print(upload_files)\n",
    "\n",
    "url = 'http://httpbin.org/post'\n",
    "# file 업로드 하려면 requests의 post 함수에 files 속성을 사용합니다.\n",
    "\n"
   ]
  },
  {
   "cell_type": "markdown",
   "id": "7ad65f12",
   "metadata": {},
   "source": [
    "### 4. 캡챠(이미지) API 호출하기\n",
    "* urllib 사용\n",
    "* 1. 캡차 키 발급 요청\n",
    "  2. 캡차 이미지 요청\n",
    "  3. 사용자 입력값 검증 요청"
   ]
  },
  {
   "cell_type": "code",
   "execution_count": 2,
   "id": "bc4ae360-e772-4873-8642-d3494edd34e1",
   "metadata": {},
   "outputs": [],
   "source": [
    "# 캡차 키 발급 요청\n"
   ]
  },
  {
   "cell_type": "code",
   "execution_count": 1,
   "id": "7b95b6a0-c218-4792-82a6-da4d80872071",
   "metadata": {},
   "outputs": [],
   "source": [
    "# 캡차 이미지 요청\n"
   ]
  },
  {
   "cell_type": "code",
   "execution_count": 3,
   "id": "a79076af-2cd0-4de2-8301-316b9130c55e",
   "metadata": {},
   "outputs": [],
   "source": [
    "#  사용자 입력값 검증 요청\n",
    "\n"
   ]
  },
  {
   "cell_type": "markdown",
   "id": "b7d984a6",
   "metadata": {},
   "source": [
    "* requests를 사용하는 코드로 변경하기\n",
    "* [requests docs](https://requests.readthedocs.io/en/latest/user/quickstart/)"
   ]
  },
  {
   "cell_type": "code",
   "execution_count": null,
   "id": "727b427b",
   "metadata": {
    "scrolled": true
   },
   "outputs": [
    {
     "name": "stdout",
     "output_type": "stream",
     "text": [
      "Error Code: 403\n"
     ]
    }
   ],
   "source": [
    "# 사용자 입력값 검증 요청\n",
    "\n"
   ]
  },
  {
   "cell_type": "markdown",
   "id": "d5e1179a",
   "metadata": {},
   "source": [
    "### 5. 블로그 검색하기"
   ]
  },
  {
   "cell_type": "code",
   "execution_count": null,
   "id": "877d0c7f",
   "metadata": {},
   "outputs": [],
   "source": [
    "import requests\n",
    "import pprint\n",
    "\n",
    "headers = {\n",
    "    'X-Naver-Client-Id': '',\n",
    "    'X-Naver-Client-Secret': '',\n",
    "}\n",
    "\n",
    "payload = {\n",
    "    'query': '파이썬',\n",
    "    'display': 100,\n",
    "    'sort': 'sim'\n",
    "}\n",
    "\n",
    "url = 'https://openapi.naver.com/v1/search/blog.json'\n",
    "\n",
    "\n",
    "# requests get(url, params, headers) 요청 \n",
    "\n",
    "# json() 함수로 응답 결과 가져오오기\n",
    "# 'title' , 'bloggername' , 'description' , 'bloggerlink' , 'link'\n",
    "\n",
    "# 'data/nhnblog.txt' 파일 생성하기\n"
   ]
  }
 ],
 "metadata": {
  "kernelspec": {
   "display_name": "base",
   "language": "python",
   "name": "python3"
  },
  "language_info": {
   "codemirror_mode": {
    "name": "ipython",
    "version": 3
   },
   "file_extension": ".py",
   "mimetype": "text/x-python",
   "name": "python",
   "nbconvert_exporter": "python",
   "pygments_lexer": "ipython3",
   "version": "3.12.7"
  }
 },
 "nbformat": 4,
 "nbformat_minor": 5
}
